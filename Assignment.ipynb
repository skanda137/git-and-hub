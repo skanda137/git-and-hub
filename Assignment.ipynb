{
 "cells": [
  {
   "cell_type": "markdown",
   "id": "0e64b966-e73a-49ba-9935-668e3655275c",
   "metadata": {},
   "source": [
    "2-TITLE"
   ]
  },
  {
   "cell_type": "markdown",
   "id": "8097a027-e862-481f-a325-8988edea63ec",
   "metadata": {},
   "source": [
    "This is an introductory sentence"
   ]
  },
  {
   "cell_type": "markdown",
   "id": "b1c044b1-f38b-40aa-aa4b-35a16cd15ffd",
   "metadata": {},
   "source": [
    "1. PYTHON\n",
    "2. R\n",
    "3. SQL\n",
    "4. JAVASCRIPT\n",
    "5. SCALA"
   ]
  },
  {
   "cell_type": "markdown",
   "id": "9cd1d813-91a0-4208-b3bf-58a21a28e4b3",
   "metadata": {},
   "source": [
    "1. NUMPY\n",
    "2. MATLIB\n",
    "3. PLOTLY\n",
    "4. SEABORN\n",
    "5. PANDA"
   ]
  },
  {
   "cell_type": "markdown",
   "id": "fa774cc6-c4a4-4e32-90f1-f05222b27ed7",
   "metadata": {},
   "source": [
    "1. TABLEAU\n",
    "2. POWERBI\n",
    "3. TENSORFLOW\n",
    "4. APACHE HADOOP"
   ]
  },
  {
   "cell_type": "markdown",
   "id": "329b6b94-b076-4714-ae0b-6675cf921db1",
   "metadata": {},
   "source": [
    "This is a sentence that shows examples of arithmetic operations \n",
    "1. '+' shows addition\n",
    "2. '-' shows subtraction\n",
    "3. '*' shows multiplication\n",
    "4. '/' shows division"
   ]
  },
  {
   "cell_type": "code",
   "execution_count": 1,
   "id": "7cb644ae-1e6e-4abb-9ef5-787adcfdd97d",
   "metadata": {},
   "outputs": [
    {
     "data": {
      "text/plain": [
       "30"
      ]
     },
     "execution_count": 1,
     "metadata": {},
     "output_type": "execute_result"
    }
   ],
   "source": [
    "5*6\n"
   ]
  },
  {
   "cell_type": "code",
   "execution_count": 2,
   "id": "d90e3fad-9260-428e-a0e8-bddff7177d69",
   "metadata": {},
   "outputs": [
    {
     "data": {
      "text/plain": [
       "105"
      ]
     },
     "execution_count": 2,
     "metadata": {},
     "output_type": "execute_result"
    }
   ],
   "source": [
    "7+98"
   ]
  },
  {
   "cell_type": "code",
   "execution_count": 5,
   "id": "d6bc0655-bfd9-4288-8fe5-df276529b11b",
   "metadata": {},
   "outputs": [
    {
     "name": "stdin",
     "output_type": "stream",
     "text": [
      "Enter time in minutes 600\n"
     ]
    },
    {
     "name": "stdout",
     "output_type": "stream",
     "text": [
      "Hours= 10\n",
      "Minutes= 0\n"
     ]
    }
   ],
   "source": [
    "min=int(input(\"Enter time in minutes\"))\n",
    "h=min//60\n",
    "m=min%60\n",
    "print(\"Hours=\",h)\n",
    "print(\"Minutes=\",m)"
   ]
  },
  {
   "cell_type": "code",
   "execution_count": null,
   "id": "552dc73f-2848-4970-b3b2-bf84a4e2fa56",
   "metadata": {},
   "outputs": [],
   "source": [
    "This is used to show objectives\n",
    "Objective5, Objective1, Objective4"
   ]
  },
  {
   "cell_type": "markdown",
   "id": "ab32231c-68c4-45d0-9f35-e253ddaa0ebf",
   "metadata": {},
   "source": [
    "Authors name is SKANDA D"
   ]
  },
  {
   "cell_type": "code",
   "execution_count": null,
   "id": "26193a44-0845-42b2-96ae-73110d49928a",
   "metadata": {},
   "outputs": [],
   "source": []
  }
 ],
 "metadata": {
  "kernelspec": {
   "display_name": "Python 3 (ipykernel)",
   "language": "python",
   "name": "python3"
  },
  "language_info": {
   "codemirror_mode": {
    "name": "ipython",
    "version": 3
   },
   "file_extension": ".py",
   "mimetype": "text/x-python",
   "name": "python",
   "nbconvert_exporter": "python",
   "pygments_lexer": "ipython3",
   "version": "3.11.9"
  }
 },
 "nbformat": 4,
 "nbformat_minor": 5
}
